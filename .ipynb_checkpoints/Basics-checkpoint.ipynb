{
 "cells": [
  {
   "cell_type": "markdown",
   "metadata": {},
   "source": [
    "# Data Analysis for a Mobile App Company\n",
    "\n",
    "This analysis is for a company that builds Android and IOS apps and publishes them on Google Play Store & the App Store but only for English Speaking Audiences. The company makes revenue through in app adds since the app themselves are generally free. As such the more the app downloads and ad engagement, the more the revenue.\n",
    "\n",
    "We intend to do an analysis using available datasets to help developers build the right kind of mobile apps to maximise downloads and ads engagement"
   ]
  },
  {
   "cell_type": "markdown",
   "metadata": {},
   "source": [
    "As of sept 2018, there were approximately 2 million apps available of App Store and 2.1 million apps on Google Play Store.\n",
    "\n",
    "I use these datasets from https://dq-content.s3.amazonaws.com/350/googleplaystore.csv and https://dq-content.s3.amazonaws.com/350/AppleStore.csv which have the relevant informatio to form a basis of this analysis"
   ]
  },
  {
   "cell_type": "code",
   "execution_count": 347,
   "metadata": {},
   "outputs": [],
   "source": [
    "from csv import reader\n",
    "\n",
    "ios_open = open(r'AppleStore.csv', encoding='utf8')\n",
    "ios_read = reader(ios_open)\n",
    "ios = list(ios_read)\n",
    "\n",
    "\n",
    "android_open = open(r'googleplaystore.csv', encoding='utf8')\n",
    "android_read = reader(android_open)\n",
    "android = list(android_read)"
   ]
  },
  {
   "cell_type": "markdown",
   "metadata": {},
   "source": [
    "The function below helps quickly explore the data"
   ]
  },
  {
   "cell_type": "code",
   "execution_count": 348,
   "metadata": {
    "collapsed": true
   },
   "outputs": [],
   "source": [
    "def explore_data(dataset, start, end, rows_and_columns=False):\n",
    "    dataset_slice = dataset[start:end]\n",
    "    for row in dataset_slice:\n",
    "        print(row)\n",
    "        print('\\n')\n",
    "        \n",
    "    if rows_and_columns:\n",
    "            print('Number of rows:', len(dataset))\n",
    "            print('Number of columns', len(dataset[0]))"
   ]
  },
  {
   "cell_type": "markdown",
   "metadata": {},
   "source": [
    "The first few rows and number of columns and rows for each dataset"
   ]
  },
  {
   "cell_type": "code",
   "execution_count": 349,
   "metadata": {},
   "outputs": [
    {
     "name": "stdout",
     "output_type": "stream",
     "text": [
      "['App', 'Category', 'Rating', 'Reviews', 'Size', 'Installs', 'Type', 'Price', 'Content Rating', 'Genres', 'Last Updated', 'Current Ver', 'Android Ver']\n",
      "\n",
      "\n",
      "['Photo Editor & Candy Camera & Grid & ScrapBook', 'ART_AND_DESIGN', '4.1', '159', '19M', '10,000+', 'Free', '0', 'Everyone', 'Art & Design', 'January 7, 2018', '1.0.0', '4.0.3 and up']\n",
      "\n",
      "\n",
      "['Coloring book moana', 'ART_AND_DESIGN', '3.9', '967', '14M', '500,000+', 'Free', '0', 'Everyone', 'Art & Design;Pretend Play', 'January 15, 2018', '2.0.0', '4.0.3 and up']\n",
      "\n",
      "\n",
      "['U Launcher Lite – FREE Live Cool Themes, Hide Apps', 'ART_AND_DESIGN', '4.7', '87510', '8.7M', '5,000,000+', 'Free', '0', 'Everyone', 'Art & Design', 'August 1, 2018', '1.2.4', '4.0.3 and up']\n",
      "\n",
      "\n",
      "['Sketch - Draw & Paint', 'ART_AND_DESIGN', '4.5', '215644', '25M', '50,000,000+', 'Free', '0', 'Teen', 'Art & Design', 'June 8, 2018', 'Varies with device', '4.2 and up']\n",
      "\n",
      "\n",
      "Number of rows: 10842\n",
      "Number of columns 13\n"
     ]
    }
   ],
   "source": [
    "explore_data(android, 0, 5, rows_and_columns=True)"
   ]
  },
  {
   "cell_type": "code",
   "execution_count": 350,
   "metadata": {},
   "outputs": [
    {
     "name": "stdout",
     "output_type": "stream",
     "text": [
      "['id', 'track_name', 'size_bytes', 'currency', 'price', 'rating_count_tot', 'rating_count_ver', 'user_rating', 'user_rating_ver', 'ver', 'cont_rating', 'prime_genre', 'sup_devices.num', 'ipadSc_urls.num', 'lang.num', 'vpp_lic']\n",
      "\n",
      "\n",
      "['284882215', 'Facebook', '389879808', 'USD', '0.0', '2974676', '212', '3.5', '3.5', '95.0', '4+', 'Social Networking', '37', '1', '29', '1']\n",
      "\n",
      "\n",
      "['389801252', 'Instagram', '113954816', 'USD', '0.0', '2161558', '1289', '4.5', '4.0', '10.23', '12+', 'Photo & Video', '37', '0', '29', '1']\n",
      "\n",
      "\n",
      "['529479190', 'Clash of Clans', '116476928', 'USD', '0.0', '2130805', '579', '4.5', '4.5', '9.24.12', '9+', 'Games', '38', '5', '18', '1']\n",
      "\n",
      "\n",
      "['420009108', 'Temple Run', '65921024', 'USD', '0.0', '1724546', '3842', '4.5', '4.0', '1.6.2', '9+', 'Games', '40', '5', '1', '1']\n",
      "\n",
      "\n",
      "Number of rows: 7198\n",
      "Number of columns 16\n"
     ]
    }
   ],
   "source": [
    "explore_data(ios, 0, 5, rows_and_columns=True)"
   ]
  },
  {
   "cell_type": "markdown",
   "metadata": {},
   "source": [
    "Given that we only build apps that are free and only for English Speaking audiences, there are a few checks to run. But first i check whether there are rows that miss some columns thus causing a column shift. The header rows for both datasets will be the reference, so that if any of the rows in the datasets has columns more or less than the respective dataset header rows then they need to be fixed."
   ]
  },
  {
   "cell_type": "code",
   "execution_count": 351,
   "metadata": {},
   "outputs": [],
   "source": [
    "def check_num_of_cols(data_set):\n",
    "    header_length = len(data_set[0])\n",
    "    \n",
    "    for row in data_set:\n",
    "        row_length = len(row)\n",
    "        if row_length != header_length:\n",
    "            print(row)\n",
    "            print(data_set.index(row))\n",
    "            \n",
    "check_num_of_cols(ios)\n"
   ]
  },
  {
   "cell_type": "code",
   "execution_count": 352,
   "metadata": {},
   "outputs": [
    {
     "name": "stdout",
     "output_type": "stream",
     "text": [
      "['Life Made WI-Fi Touchscreen Photo Frame', '1.9', '19', '3.0M', '1,000+', 'Free', '0', 'Everyone', '', 'February 11, 2018', '1.0.19', '4.0 and up']\n",
      "10473\n"
     ]
    }
   ],
   "source": [
    "check_num_of_cols(android)"
   ]
  },
  {
   "cell_type": "markdown",
   "metadata": {},
   "source": [
    "from the above check the ios data has no rows that miss a column however the android data has one column with 12 columns instead of 13. We can choose to delete this datapoint or insert a null value. Since its a single datapoint out of 10842, it is unlikely that it has much significance plus we may have to remove null values eventually"
   ]
  },
  {
   "cell_type": "code",
   "execution_count": 353,
   "metadata": {
    "collapsed": true
   },
   "outputs": [],
   "source": [
    "del android[10473]"
   ]
  },
  {
   "cell_type": "markdown",
   "metadata": {},
   "source": [
    "To clean the data further we check apps that have duplicate entries since we dont want to count a single app more than once when we analyze data"
   ]
  },
  {
   "cell_type": "code",
   "execution_count": 354,
   "metadata": {},
   "outputs": [
    {
     "name": "stdout",
     "output_type": "stream",
     "text": [
      "1181\n",
      "9660\n",
      "['Quick PDF Scanner + OCR FREE', 'Box', 'Google My Business', 'ZOOM Cloud Meetings']\n"
     ]
    }
   ],
   "source": [
    "unique_android = []\n",
    "duplicate_android = []\n",
    "\n",
    "for app in android:\n",
    "    app_name = app[0]\n",
    "    if app_name in unique_android:\n",
    "        duplicate_android.append(app_name)\n",
    "    else:\n",
    "        unique_android.append(app_name)\n",
    "print(len(duplicate_android))\n",
    "print(len(unique_android))\n",
    "print(duplicate_android[:4])#examples of duplicate apps"
   ]
  },
  {
   "cell_type": "code",
   "execution_count": 355,
   "metadata": {},
   "outputs": [
    {
     "name": "stdout",
     "output_type": "stream",
     "text": [
      "0\n"
     ]
    }
   ],
   "source": [
    "unique_ios = []\n",
    "duplicate_ios = []\n",
    "\n",
    "for app in ios:\n",
    "    app_name = app[0]\n",
    "    if app_name in unique_ios:\n",
    "        duplicate_ios.append(app_name)\n",
    "    else:\n",
    "        unique_ios.append(app_name)\n",
    "print(len(duplicate_ios))"
   ]
  },
  {
   "cell_type": "markdown",
   "metadata": {},
   "source": [
    "Android data has 1181 duplicated apps. We examine these to observe if there are any interesting patterns"
   ]
  },
  {
   "cell_type": "code",
   "execution_count": 356,
   "metadata": {},
   "outputs": [
    {
     "name": "stdout",
     "output_type": "stream",
     "text": [
      "['Quick PDF Scanner + OCR FREE', 'BUSINESS', '4.2', '80805', 'Varies with device', '5,000,000+', 'Free', '0', 'Everyone', 'Business', 'February 26, 2018', 'Varies with device', '4.0.3 and up']\n",
      "['Quick PDF Scanner + OCR FREE', 'BUSINESS', '4.2', '80805', 'Varies with device', '5,000,000+', 'Free', '0', 'Everyone', 'Business', 'February 26, 2018', 'Varies with device', '4.0.3 and up']\n",
      "['Quick PDF Scanner + OCR FREE', 'BUSINESS', '4.2', '80804', 'Varies with device', '5,000,000+', 'Free', '0', 'Everyone', 'Business', 'February 26, 2018', 'Varies with device', '4.0.3 and up']\n"
     ]
    }
   ],
   "source": [
    "for app in android:\n",
    "    name = app[0]\n",
    "    if name == 'Quick PDF Scanner + OCR FREE':\n",
    "        print(app)"
   ]
  },
  {
   "cell_type": "code",
   "execution_count": 357,
   "metadata": {},
   "outputs": [
    {
     "name": "stdout",
     "output_type": "stream",
     "text": [
      "['Box', 'BUSINESS', '4.2', '159872', 'Varies with device', '10,000,000+', 'Free', '0', 'Everyone', 'Business', 'July 31, 2018', 'Varies with device', 'Varies with device']\n",
      "['Box', 'BUSINESS', '4.2', '159872', 'Varies with device', '10,000,000+', 'Free', '0', 'Everyone', 'Business', 'July 31, 2018', 'Varies with device', 'Varies with device']\n",
      "['Box', 'BUSINESS', '4.2', '159872', 'Varies with device', '10,000,000+', 'Free', '0', 'Everyone', 'Business', 'July 31, 2018', 'Varies with device', 'Varies with device']\n"
     ]
    }
   ],
   "source": [
    "for app in android:\n",
    "    name = app[0]\n",
    "    if name == 'Box':\n",
    "        print(app)"
   ]
  },
  {
   "cell_type": "code",
   "execution_count": 358,
   "metadata": {},
   "outputs": [
    {
     "name": "stdout",
     "output_type": "stream",
     "text": [
      "['Google My Business', 'BUSINESS', '4.4', '70991', 'Varies with device', '5,000,000+', 'Free', '0', 'Everyone', 'Business', 'July 24, 2018', '2.19.0.204537701', '4.4 and up']\n",
      "['Google My Business', 'BUSINESS', '4.4', '70991', 'Varies with device', '5,000,000+', 'Free', '0', 'Everyone', 'Business', 'July 24, 2018', '2.19.0.204537701', '4.4 and up']\n",
      "['Google My Business', 'BUSINESS', '4.4', '70991', 'Varies with device', '5,000,000+', 'Free', '0', 'Everyone', 'Business', 'July 24, 2018', '2.19.0.204537701', '4.4 and up']\n"
     ]
    }
   ],
   "source": [
    "for app in android:\n",
    "    name = app[0]\n",
    "    if name == 'Google My Business':\n",
    "        print(app)"
   ]
  },
  {
   "cell_type": "code",
   "execution_count": 359,
   "metadata": {},
   "outputs": [
    {
     "name": "stdout",
     "output_type": "stream",
     "text": [
      "['ZOOM Cloud Meetings', 'BUSINESS', '4.4', '31614', '37M', '10,000,000+', 'Free', '0', 'Everyone', 'Business', 'July 20, 2018', '4.1.28165.0716', '4.0 and up']\n",
      "['ZOOM Cloud Meetings', 'BUSINESS', '4.4', '31614', '37M', '10,000,000+', 'Free', '0', 'Everyone', 'Business', 'July 20, 2018', '4.1.28165.0716', '4.0 and up']\n"
     ]
    }
   ],
   "source": [
    "\n",
    "for app in android:\n",
    "    name = app[0]\n",
    "    if name == 'ZOOM Cloud Meetings':\n",
    "        print(app)"
   ]
  },
  {
   "cell_type": "markdown",
   "metadata": {},
   "source": [
    "Instead of doing a random deletion, we will keep the rows with the highest reviews and discard the rest of the duplicate rows since its indicative that the highest rating might be the most recent one\n"
   ]
  },
  {
   "cell_type": "code",
   "execution_count": 360,
   "metadata": {},
   "outputs": [
    {
     "data": {
      "text/plain": [
       "10841"
      ]
     },
     "execution_count": 360,
     "metadata": {},
     "output_type": "execute_result"
    }
   ],
   "source": [
    "len(android)"
   ]
  },
  {
   "cell_type": "code",
   "execution_count": 361,
   "metadata": {},
   "outputs": [
    {
     "name": "stdout",
     "output_type": "stream",
     "text": [
      "9660\n",
      "9660\n"
     ]
    }
   ],
   "source": [
    "max_reviews = {}\n",
    "for app in android:\n",
    "    app_name = app[0]\n",
    "    app_review = app[3]\n",
    "    if app_name in max_reviews and max_reviews[app_name] < app_review:\n",
    "        max_reviews[app_name] = app_review\n",
    "    elif app_name not in max_reviews:\n",
    "        max_reviews[app_name] = app_review\n",
    "        \n",
    "print(len(android) - 1181)\n",
    "print(len(max_reviews))\n",
    "      "
   ]
  },
  {
   "cell_type": "markdown",
   "metadata": {},
   "source": [
    "Below I iterate through the android dataset and for each iteration i add to the android_clean list the app and to the already_added list the app_name if and only if the app's reviews for that particular app match the app's reviews as in my initial max_reviews dictionaries"
   ]
  },
  {
   "cell_type": "code",
   "execution_count": 362,
   "metadata": {},
   "outputs": [
    {
     "data": {
      "text/plain": [
       "9660"
      ]
     },
     "execution_count": 362,
     "metadata": {},
     "output_type": "execute_result"
    }
   ],
   "source": [
    "android_clean = []\n",
    "already_added = []\n",
    "for app in android:\n",
    "    app_name = app[0]\n",
    "    app_review = app[3]\n",
    "    if app_review == max_reviews[app_name] and app_name not in already_added:\n",
    "        android_clean.append(app)\n",
    "        already_added.append(app_name)\n",
    "        \n",
    "len(android_clean)      "
   ]
  },
  {
   "cell_type": "markdown",
   "metadata": {},
   "source": [
    "Now with the duplicate entries for apps gone, I remove all apps whose names suggest they arent target to English speaking audiences, I do this decoding the characters using the ASCII standards, all english characters according to ASCII range upto 127, so if a characters ASCII code is greater then 127 then it means its not an English character"
   ]
  },
  {
   "cell_type": "code",
   "execution_count": 363,
   "metadata": {},
   "outputs": [
    {
     "name": "stdout",
     "output_type": "stream",
     "text": [
      "False\n",
      "False\n",
      "False\n",
      "128540\n",
      "8482\n"
     ]
    }
   ],
   "source": [
    "def check_if_english(string):\n",
    "    for character in string:  \n",
    "        if ord(character) > 127:\n",
    "            return False\n",
    "    return True\n",
    "        \n",
    "    \n",
    "print(check_if_english('爱奇艺PPS -《欢乐颂2》电视剧热播'))\n",
    "print(check_if_english('Instachat 😜'))\n",
    "print(check_if_english('Docs To Go™ Free Office Suite'))\n",
    "print(ord('😜'))\n",
    "print(ord('™'))"
   ]
  },
  {
   "cell_type": "markdown",
   "metadata": {},
   "source": [
    "I see characters like the emoji will give me false results hence more modification is needed. I decide to only remove an app if the name has more than 3 characters outside of the 127 range of ASCII for English."
   ]
  },
  {
   "cell_type": "code",
   "execution_count": 364,
   "metadata": {},
   "outputs": [
    {
     "name": "stdout",
     "output_type": "stream",
     "text": [
      "True\n",
      "True\n",
      "False\n",
      "False\n"
     ]
    }
   ],
   "source": [
    "def check_if_english(string):\n",
    "    char_more = []\n",
    "    for char in string:\n",
    "        if ord(char) > 127:\n",
    "            char_more.append(char)\n",
    "    if len(char_more) > 3:\n",
    "        return False\n",
    "    else:\n",
    "        return True\n",
    "print(check_if_english('Instachat😜'))\n",
    "print(check_if_english('Docs To Go™ Free Office Suite'))\n",
    "print(check_if_english('Instachat 😜😜😜😜'))\n",
    "print(check_if_english('爱奇艺PPS -《欢乐颂2》电视剧热播'))"
   ]
  },
  {
   "cell_type": "code",
   "execution_count": 365,
   "metadata": {},
   "outputs": [
    {
     "name": "stdout",
     "output_type": "stream",
     "text": [
      "['App', 'Category', 'Rating', 'Reviews', 'Size', 'Installs', 'Type', 'Price', 'Content Rating', 'Genres', 'Last Updated', 'Current Ver', 'Android Ver']\n",
      "\n",
      "\n",
      "['Photo Editor & Candy Camera & Grid & ScrapBook', 'ART_AND_DESIGN', '4.1', '159', '19M', '10,000+', 'Free', '0', 'Everyone', 'Art & Design', 'January 7, 2018', '1.0.0', '4.0.3 and up']\n",
      "\n",
      "\n",
      "['U Launcher Lite – FREE Live Cool Themes, Hide Apps', 'ART_AND_DESIGN', '4.7', '87510', '8.7M', '5,000,000+', 'Free', '0', 'Everyone', 'Art & Design', 'August 1, 2018', '1.2.4', '4.0.3 and up']\n",
      "\n",
      "\n",
      "Number of rows: 9615\n",
      "Number of columns 13\n",
      "\n",
      "\n",
      "['id', 'track_name', 'size_bytes', 'currency', 'price', 'rating_count_tot', 'rating_count_ver', 'user_rating', 'user_rating_ver', 'ver', 'cont_rating', 'prime_genre', 'sup_devices.num', 'ipadSc_urls.num', 'lang.num', 'vpp_lic']\n",
      "\n",
      "\n",
      "['284882215', 'Facebook', '389879808', 'USD', '0.0', '2974676', '212', '3.5', '3.5', '95.0', '4+', 'Social Networking', '37', '1', '29', '1']\n",
      "\n",
      "\n",
      "['389801252', 'Instagram', '113954816', 'USD', '0.0', '2161558', '1289', '4.5', '4.0', '10.23', '12+', 'Photo & Video', '37', '0', '29', '1']\n",
      "\n",
      "\n",
      "Number of rows: 6184\n",
      "Number of columns 16\n"
     ]
    }
   ],
   "source": [
    "android_english = []\n",
    "for app in android_clean:\n",
    "    app_name = app[0]\n",
    "    if check_if_english(app_name):\n",
    "        android_english.append(app)\n",
    "        \n",
    "        \n",
    "ios_english = []\n",
    "for app in ios:\n",
    "    app_name = app[1]\n",
    "    if check_if_english(app_name):\n",
    "        ios_english.append(app)\n",
    "        \n",
    "        \n",
    "explore_data(android_english, 0, 3, True)\n",
    "print('\\n')\n",
    "explore_data(ios_english, 0, 3, True)"
   ]
  },
  {
   "cell_type": "markdown",
   "metadata": {},
   "source": [
    "A number of apps with non-english names both for android and ios are now removed. Next I isolate the free apps since we only deal with these"
   ]
  },
  {
   "cell_type": "code",
   "execution_count": 366,
   "metadata": {},
   "outputs": [
    {
     "name": "stdout",
     "output_type": "stream",
     "text": [
      "8862\n",
      "3222\n"
     ]
    }
   ],
   "source": [
    "android = android_english\n",
    "ios = ios_english\n",
    "\n",
    "\n",
    "android_free = []\n",
    "for app in android[1:]:\n",
    "    price = app[7]\n",
    "    if price == '0':\n",
    "        android_free.append(app)\n",
    "        \n",
    "ios_free = []\n",
    "for app in ios[1:]:\n",
    "    price = app[4]\n",
    "    if price == '0.0':\n",
    "        ios_free.append(app)\n",
    "        \n",
    "print(len(android_free))\n",
    "print(len(ios_free))"
   ]
  },
  {
   "cell_type": "code",
   "execution_count": 367,
   "metadata": {
    "collapsed": true
   },
   "outputs": [],
   "source": [
    "android = android_free\n",
    "ios = ios_free"
   ]
  },
  {
   "cell_type": "markdown",
   "metadata": {},
   "source": [
    "Coming back to the objective, the aim is to determine the kind of apps to build since the revenue depends on the number of users of the apps build. The company's strategy is to build apps publish apps on Play Store if they show good results, improve them and build their ios versions for app store. for this reaseon its prudent to investigate app profiles that are successful for both markets. I further investigate the datasets to find out the columns that will exhibit the best profiles for frequency tables."
   ]
  },
  {
   "cell_type": "code",
   "execution_count": 368,
   "metadata": {},
   "outputs": [
    {
     "name": "stdout",
     "output_type": "stream",
     "text": [
      "['App', 'Category', 'Rating', 'Reviews', 'Size', 'Installs', 'Type', 'Price', 'Content Rating', 'Genres', 'Last Updated', 'Current Ver', 'Android Ver']\n",
      "['Photo Editor & Candy Camera & Grid & ScrapBook', 'ART_AND_DESIGN', '4.1', '159', '19M', '10,000+', 'Free', '0', 'Everyone', 'Art & Design', 'January 7, 2018', '1.0.0', '4.0.3 and up']\n",
      "\n",
      "\n",
      "['U Launcher Lite – FREE Live Cool Themes, Hide Apps', 'ART_AND_DESIGN', '4.7', '87510', '8.7M', '5,000,000+', 'Free', '0', 'Everyone', 'Art & Design', 'August 1, 2018', '1.2.4', '4.0.3 and up']\n",
      "\n",
      "\n",
      "['Sketch - Draw & Paint', 'ART_AND_DESIGN', '4.5', '215644', '25M', '50,000,000+', 'Free', '0', 'Teen', 'Art & Design', 'June 8, 2018', 'Varies with device', '4.2 and up']\n",
      "\n",
      "\n",
      "\n",
      "\n",
      "['id', 'track_name', 'size_bytes', 'currency', 'price', 'rating_count_tot', 'rating_count_ver', 'user_rating', 'user_rating_ver', 'ver', 'cont_rating', 'prime_genre', 'sup_devices.num', 'ipadSc_urls.num', 'lang.num', 'vpp_lic']\n",
      "['284882215', 'Facebook', '389879808', 'USD', '0.0', '2974676', '212', '3.5', '3.5', '95.0', '4+', 'Social Networking', '37', '1', '29', '1']\n",
      "\n",
      "\n",
      "['389801252', 'Instagram', '113954816', 'USD', '0.0', '2161558', '1289', '4.5', '4.0', '10.23', '12+', 'Photo & Video', '37', '0', '29', '1']\n",
      "\n",
      "\n",
      "['529479190', 'Clash of Clans', '116476928', 'USD', '0.0', '2130805', '579', '4.5', '4.5', '9.24.12', '9+', 'Games', '38', '5', '18', '1']\n",
      "\n",
      "\n"
     ]
    }
   ],
   "source": [
    "print(android_english[0])\n",
    "explore_data(android, 0, 3)\n",
    "print('\\n')\n",
    "print(ios_english[0])\n",
    "explore_data(ios, 0, 3)"
   ]
  },
  {
   "cell_type": "markdown",
   "metadata": {},
   "source": [
    "Below i build frequency tables using the 'prime genre' column for the ios dataset & 'genre' and 'category' for the android dataset"
   ]
  },
  {
   "cell_type": "code",
   "execution_count": 369,
   "metadata": {
    "collapsed": true
   },
   "outputs": [],
   "source": [
    "def freq_table(data_set, index):\n",
    "    table = {}\n",
    "    total = 0\n",
    "    for row in data_set:\n",
    "        total += 1\n",
    "        value = row[index]\n",
    "        if value in table:\n",
    "            table[value] += 1    \n",
    "        else:\n",
    "            table[value] = 1\n",
    "    table_percentages = {}        \n",
    "    for key in table:\n",
    "        percentage = (table[key] / total) * 100\n",
    "        table_percentages[key] = percentage\n",
    "        \n",
    "    return table_percentages\n",
    "        \n",
    "            \n",
    "def display_table(data_set, index):\n",
    "    table = freq_table(data_set, index)\n",
    "    table_display = []\n",
    "    for key in table:\n",
    "        key_val_as_tuple = (table[key], key)\n",
    "        table_display.append(key_val_as_tuple)\n",
    "\n",
    "    table_sorted = sorted(table_display, reverse = True)\n",
    "    for entry in table_sorted:\n",
    "        print(entry[1], ':', entry[0])    \n",
    "        \n",
    "    "
   ]
  },
  {
   "cell_type": "code",
   "execution_count": 370,
   "metadata": {},
   "outputs": [
    {
     "name": "stdout",
     "output_type": "stream",
     "text": [
      "Games : 58.16263190564867\n",
      "Entertainment : 7.883302296710118\n",
      "Photo & Video : 4.9658597144630665\n",
      "Education : 3.662321539416512\n",
      "Social Networking : 3.2898820608317814\n",
      "Shopping : 2.60707635009311\n",
      "Utilities : 2.5139664804469275\n",
      "Sports : 2.1415270018621975\n",
      "Music : 2.0484171322160147\n",
      "Health & Fitness : 2.0173805090006205\n",
      "Productivity : 1.7380509000620732\n",
      "Lifestyle : 1.5828677839851024\n",
      "News : 1.3345747982619491\n",
      "Travel : 1.2414649286157666\n",
      "Finance : 1.1173184357541899\n",
      "Weather : 0.8690254500310366\n",
      "Food & Drink : 0.8069522036002483\n",
      "Reference : 0.5586592178770949\n",
      "Business : 0.5276225946617008\n",
      "Book : 0.4345127250155183\n",
      "Navigation : 0.186219739292365\n",
      "Medical : 0.186219739292365\n",
      "Catalogs : 0.12414649286157665\n"
     ]
    }
   ],
   "source": [
    "display_table(ios, 11)"
   ]
  },
  {
   "cell_type": "code",
   "execution_count": 371,
   "metadata": {},
   "outputs": [
    {
     "name": "stdout",
     "output_type": "stream",
     "text": [
      "Tools : 8.440532611148726\n",
      "Entertainment : 6.070864364703228\n",
      "Education : 5.348679756262695\n",
      "Business : 4.5926427443015125\n",
      "Productivity : 3.8930264048747465\n",
      "Lifestyle : 3.8930264048747465\n",
      "Finance : 3.7011961182577298\n",
      "Medical : 3.5206499661475967\n",
      "Sports : 3.4642292936131795\n",
      "Personalization : 3.3175355450236967\n",
      "Communication : 3.238546603475513\n",
      "Action : 3.1031369893929135\n",
      "Health & Fitness : 3.080568720379147\n",
      "Photography : 2.945159106296547\n",
      "News & Magazines : 2.798465357707064\n",
      "Social : 2.663055743624464\n",
      "Travel & Local : 2.324531708417964\n",
      "Shopping : 2.2455427668697814\n",
      "Books & Reference : 2.143985556307831\n",
      "Simulation : 2.0424283457458814\n",
      "Dating : 1.8618821936357481\n",
      "Arcade : 1.8505980591288649\n",
      "Video Players & Editors : 1.7716091175806816\n",
      "Casual : 1.7490408485669149\n",
      "Maps & Navigation : 1.399232678853532\n",
      "Food & Drink : 1.2412547957571656\n",
      "Puzzle : 1.128413450688332\n",
      "Racing : 0.9930038366057323\n",
      "Role Playing : 0.9365831640713158\n",
      "Libraries & Demo : 0.9365831640713158\n",
      "Auto & Vehicles : 0.9252990295644324\n",
      "Strategy : 0.9140148950575491\n",
      "House & Home : 0.8237418190024826\n",
      "Weather : 0.8011735499887158\n",
      "Events : 0.7109004739336493\n",
      "Adventure : 0.6770480704129994\n",
      "Comics : 0.6093432633716994\n",
      "Beauty : 0.598059128864816\n",
      "Art & Design : 0.598059128864816\n",
      "Parenting : 0.49650191830286616\n",
      "Card : 0.4400812457684496\n",
      "Casino : 0.4287971112615662\n",
      "Trivia : 0.41751297675468296\n",
      "Educational;Education : 0.3949447077409162\n",
      "Educational : 0.3723764387271496\n",
      "Board : 0.3723764387271496\n",
      "Education;Education : 0.3385240352064997\n",
      "Word : 0.2595350936583164\n",
      "Casual;Pretend Play : 0.23696682464454977\n",
      "Music : 0.2031144211238998\n",
      "Puzzle;Brain Games : 0.18054615211013314\n",
      "Racing;Action & Adventure : 0.16926201760324985\n",
      "Entertainment;Music & Video : 0.16926201760324985\n",
      "Casual;Brain Games : 0.13540961408259986\n",
      "Casual;Action & Adventure : 0.13540961408259986\n",
      "Arcade;Action & Adventure : 0.12412547957571654\n",
      "Action;Action & Adventure : 0.1015572105619499\n",
      "Educational;Pretend Play : 0.09027307605506657\n",
      "Board;Brain Games : 0.09027307605506657\n",
      "Simulation;Action & Adventure : 0.07898894154818326\n",
      "Parenting;Education : 0.07898894154818326\n",
      "Entertainment;Brain Games : 0.07898894154818326\n",
      "Parenting;Music & Video : 0.06770480704129993\n",
      "Educational;Brain Games : 0.06770480704129993\n",
      "Casual;Creativity : 0.06770480704129993\n",
      "Art & Design;Creativity : 0.06770480704129993\n",
      "Education;Pretend Play : 0.056420672534416606\n",
      "Role Playing;Pretend Play : 0.045136538027533285\n",
      "Education;Creativity : 0.045136538027533285\n",
      "Role Playing;Action & Adventure : 0.033852403520649964\n",
      "Puzzle;Action & Adventure : 0.033852403520649964\n",
      "Entertainment;Creativity : 0.033852403520649964\n",
      "Entertainment;Action & Adventure : 0.033852403520649964\n",
      "Educational;Creativity : 0.033852403520649964\n",
      "Educational;Action & Adventure : 0.033852403520649964\n",
      "Education;Music & Video : 0.033852403520649964\n",
      "Education;Brain Games : 0.033852403520649964\n",
      "Education;Action & Adventure : 0.033852403520649964\n",
      "Adventure;Action & Adventure : 0.033852403520649964\n",
      "Video Players & Editors;Music & Video : 0.022568269013766643\n",
      "Sports;Action & Adventure : 0.022568269013766643\n",
      "Simulation;Pretend Play : 0.022568269013766643\n",
      "Puzzle;Creativity : 0.022568269013766643\n",
      "Music;Music & Video : 0.022568269013766643\n",
      "Entertainment;Pretend Play : 0.022568269013766643\n",
      "Casual;Education : 0.022568269013766643\n",
      "Board;Action & Adventure : 0.022568269013766643\n",
      "Video Players & Editors;Creativity : 0.011284134506883321\n",
      "Trivia;Education : 0.011284134506883321\n",
      "Travel & Local;Action & Adventure : 0.011284134506883321\n",
      "Tools;Education : 0.011284134506883321\n",
      "Strategy;Education : 0.011284134506883321\n",
      "Strategy;Creativity : 0.011284134506883321\n",
      "Strategy;Action & Adventure : 0.011284134506883321\n",
      "Simulation;Education : 0.011284134506883321\n",
      "Role Playing;Brain Games : 0.011284134506883321\n",
      "Racing;Pretend Play : 0.011284134506883321\n",
      "Puzzle;Education : 0.011284134506883321\n",
      "Parenting;Brain Games : 0.011284134506883321\n",
      "Music & Audio;Music & Video : 0.011284134506883321\n",
      "Lifestyle;Pretend Play : 0.011284134506883321\n",
      "Lifestyle;Education : 0.011284134506883321\n",
      "Health & Fitness;Education : 0.011284134506883321\n",
      "Health & Fitness;Action & Adventure : 0.011284134506883321\n",
      "Entertainment;Education : 0.011284134506883321\n",
      "Communication;Creativity : 0.011284134506883321\n",
      "Comics;Creativity : 0.011284134506883321\n",
      "Casual;Music & Video : 0.011284134506883321\n",
      "Card;Brain Games : 0.011284134506883321\n",
      "Card;Action & Adventure : 0.011284134506883321\n",
      "Books & Reference;Education : 0.011284134506883321\n",
      "Art & Design;Pretend Play : 0.011284134506883321\n",
      "Art & Design;Action & Adventure : 0.011284134506883321\n",
      "Arcade;Pretend Play : 0.011284134506883321\n",
      "Adventure;Education : 0.011284134506883321\n"
     ]
    }
   ],
   "source": [
    "display_table(android, 9)"
   ]
  },
  {
   "cell_type": "code",
   "execution_count": 372,
   "metadata": {},
   "outputs": [
    {
     "name": "stdout",
     "output_type": "stream",
     "text": [
      "FAMILY : 18.934777702550214\n",
      "GAME : 9.693071541412774\n",
      "TOOLS : 8.451816745655607\n",
      "BUSINESS : 4.5926427443015125\n",
      "LIFESTYLE : 3.9043105393816293\n",
      "PRODUCTIVITY : 3.8930264048747465\n",
      "FINANCE : 3.7011961182577298\n",
      "MEDICAL : 3.5206499661475967\n",
      "SPORTS : 3.39652448657188\n",
      "PERSONALIZATION : 3.3175355450236967\n",
      "COMMUNICATION : 3.238546603475513\n",
      "HEALTH_AND_FITNESS : 3.080568720379147\n",
      "PHOTOGRAPHY : 2.945159106296547\n",
      "NEWS_AND_MAGAZINES : 2.798465357707064\n",
      "SOCIAL : 2.663055743624464\n",
      "TRAVEL_AND_LOCAL : 2.335815842924848\n",
      "SHOPPING : 2.2455427668697814\n",
      "BOOKS_AND_REFERENCE : 2.143985556307831\n",
      "DATING : 1.8618821936357481\n",
      "VIDEO_PLAYERS : 1.7941773865944481\n",
      "MAPS_AND_NAVIGATION : 1.399232678853532\n",
      "FOOD_AND_DRINK : 1.2412547957571656\n",
      "EDUCATION : 1.1735499887158656\n",
      "ENTERTAINMENT : 0.9591514330850823\n",
      "LIBRARIES_AND_DEMO : 0.9365831640713158\n",
      "AUTO_AND_VEHICLES : 0.9252990295644324\n",
      "HOUSE_AND_HOME : 0.8237418190024826\n",
      "WEATHER : 0.8011735499887158\n",
      "EVENTS : 0.7109004739336493\n",
      "PARENTING : 0.6544798013992327\n",
      "ART_AND_DESIGN : 0.6431956668923494\n",
      "COMICS : 0.6206273978785828\n",
      "BEAUTY : 0.598059128864816\n"
     ]
    }
   ],
   "source": [
    "display_table(android, 1)"
   ]
  },
  {
   "cell_type": "markdown",
   "metadata": {},
   "source": [
    "## IOS/App Store\n",
    "\n",
    "As shown by the frequency table for ios on 'prime genre' column, the most common genre is the games followed by entertainment. Most of the apps on App store seem to be more tailored for entertainment (games, social media, sports, music) purposes as opposed to more practical ones (Education, Productivity, shopping etc)\n",
    "\n",
    "While there's a good indication that apps in the entertainment genres are more popular, it is not necessarily true to say that these have a large number of user, could be most people in the world enjoying building these kind of apps or they are perhaps generally easier to build. A good extension for this study would be to investigate the installations and app usage for these to indeed confirm this kind of hypothesis"
   ]
  },
  {
   "cell_type": "markdown",
   "metadata": {},
   "source": [
    "## Android/Google Play Store\n",
    "\n",
    "Looking at the frequency tables for Category and genre columns on the android data set the most popular apps are in family, games, entertainment with a few practical apps(business, education, tools, medical) following closely. This trend is unique compared to the results from app store where more practical apps are less common\n",
    "This a good observation that is worth further investigation."
   ]
  },
  {
   "cell_type": "markdown",
   "metadata": {},
   "source": [
    "## Apps With most Users\n",
    "\n",
    "To find out the apps with the most users per app genre we can use the installs column for Google play store and rating_count_tot column for App store.\n",
    "\n",
    "1. average number of user ratings per app genre on the App Store"
   ]
  },
  {
   "cell_type": "code",
   "execution_count": 373,
   "metadata": {},
   "outputs": [
    {
     "name": "stdout",
     "output_type": "stream",
     "text": [
      "Finance : 31467.944444444445\n",
      "Sports : 23008.898550724636\n",
      "Education : 7003.983050847458\n",
      "Social Networking : 71548.34905660378\n",
      "Shopping : 26919.690476190477\n",
      "Reference : 74942.11111111111\n",
      "Weather : 52279.892857142855\n",
      "Photo & Video : 28441.54375\n",
      "Medical : 612.0\n",
      "Music : 57326.530303030304\n",
      "Entertainment : 14029.830708661417\n",
      "Book : 39758.5\n",
      "Catalogs : 4004.0\n",
      "Games : 22788.6696905016\n",
      "Travel : 28243.8\n",
      "Lifestyle : 16485.764705882353\n",
      "Food & Drink : 33333.92307692308\n",
      "Productivity : 21028.410714285714\n",
      "Utilities : 18684.456790123455\n",
      "Business : 7491.117647058823\n",
      "News : 21248.023255813954\n",
      "Navigation : 86090.33333333333\n",
      "Health & Fitness : 23298.015384615384\n"
     ]
    }
   ],
   "source": [
    "ios_genres = freq_table(ios, 11)\n",
    "\n",
    "for genre in ios_genres:\n",
    "    total = 0\n",
    "    len_genre = 0\n",
    "    for app in ios:\n",
    "        app_genre = app[11]\n",
    "        if app_genre == genre:\n",
    "            rating = float(app[5])\n",
    "            total += rating\n",
    "            len_genre += 1\n",
    "    avg_rating = total / len_genre\n",
    "    print(genre, ':', avg_rating)\n",
    "    \n",
    "\n"
   ]
  },
  {
   "cell_type": "markdown",
   "metadata": {},
   "source": [
    "On average, navigation apps have the highest number of user reviews, but this figure is heavily influenced by Waze and Google Maps, which have close to half a million user reviews together.\n",
    "\n",
    "This may not tell the whole picture. A genre might be influenced by very few apps in it that have hundred of thousands of user rations. I invesigate navigation.\n",
    "\n"
   ]
  },
  {
   "cell_type": "code",
   "execution_count": 374,
   "metadata": {},
   "outputs": [
    {
     "name": "stdout",
     "output_type": "stream",
     "text": [
      "Waze - GPS Navigation, Maps & Real-time Traffic : 345046\n",
      "Google Maps - Navigation & Transit : 154911\n",
      "Geocaching® : 12811\n",
      "CoPilot GPS – Car Navigation & Offline Maps : 3582\n",
      "ImmobilienScout24: Real Estate Search in Germany : 187\n",
      "Railway Route Search : 5\n"
     ]
    }
   ],
   "source": []
  },
  {
   "cell_type": "markdown",
   "metadata": {},
   "source": [
    "As seen above Waze - GPS Navigation, Maps & Real-time Traffic : 345046 and Google Maps - Navigation & Transit : 154911 both skew the frequency.\n",
    "\n",
    "Some kind of apps are out of scope for the company since they need some domain practicality that the company doesnt engage in e.g Finance, food and drinks etc.\n",
    "However looking and Music which has quite an average rating and sports (these have readily available data- there are Open APIs that the Dev team can use), they company can build an app that combines some aspects of these features for example."
   ]
  },
  {
   "cell_type": "code",
   "execution_count": 375,
   "metadata": {
    "collapsed": true
   },
   "outputs": [],
   "source": [
    "for app in android:\n",
    "    installs = app[5]\n",
    "    installs = installs.replace('+', '')\n",
    "    installs = installs.replace(',', '')\n",
    "    app[5] = installs"
   ]
  },
  {
   "cell_type": "code",
   "execution_count": 376,
   "metadata": {},
   "outputs": [
    {
     "name": "stdout",
     "output_type": "stream",
     "text": [
      "ENTERTAINMENT : 11640705.88235294\n",
      "FAMILY : 3694276.334922527\n",
      "PERSONALIZATION : 5201482.6122448975\n",
      "FINANCE : 1387692.475609756\n",
      "SOCIAL : 23253652.127118643\n",
      "AUTO_AND_VEHICLES : 647317.8170731707\n",
      "BOOKS_AND_REFERENCE : 8767811.894736841\n",
      "FOOD_AND_DRINK : 1924897.7363636363\n",
      "HEALTH_AND_FITNESS : 4188821.9853479853\n",
      "PHOTOGRAPHY : 17805627.643678162\n",
      "SPORTS : 3638640.1428571427\n",
      "BUSINESS : 1712290.1474201474\n",
      "EDUCATION : 1820673.076923077\n",
      "MAPS_AND_NAVIGATION : 4056941.7741935486\n",
      "BEAUTY : 513151.88679245283\n",
      "LIFESTYLE : 1437816.2687861272\n",
      "VIDEO_PLAYERS : 24727872.452830188\n",
      "LIBRARIES_AND_DEMO : 638503.734939759\n",
      "EVENTS : 253542.22222222222\n",
      "TOOLS : 10682301.033377837\n",
      "COMICS : 817657.2727272727\n",
      "GAME : 15560965.599534342\n",
      "HOUSE_AND_HOME : 1331540.5616438356\n",
      "PRODUCTIVITY : 16787331.344927534\n",
      "ART_AND_DESIGN : 1986335.0877192982\n",
      "NEWS_AND_MAGAZINES : 9549178.467741935\n",
      "DATING : 854028.8303030303\n",
      "COMMUNICATION : 38456119.167247385\n",
      "MEDICAL : 120616.48717948717\n",
      "SHOPPING : 7036877.311557789\n",
      "TRAVEL_AND_LOCAL : 13984077.710144928\n",
      "WEATHER : 5074486.197183099\n",
      "PARENTING : 542603.6206896552\n"
     ]
    }
   ],
   "source": [
    "android_genres = freq_table(android, 1)\n",
    "for category in android_genres:\n",
    "    total = 0\n",
    "    category_len = 0\n",
    "    for app in android:\n",
    "        app_cat = app[1]\n",
    "        if app_cat == category:\n",
    "            installs = float(app[5])\n",
    "            total += installs\n",
    "            category_len += 1\n",
    "    avg_installs = total / category_len\n",
    "    print(category, ':', avg_installs)"
   ]
  },
  {
   "cell_type": "markdown",
   "metadata": {},
   "source": [
    "On average, communication apps have the most installs: 38,456,119. This number is heavily skewed up by a few apps that have over one billion installs (WhatsApp, Facebook Messenger, Skype, Google Chrome, Gmail, and Hangouts), and a few others with over 100 and 500 million installs"
   ]
  },
  {
   "cell_type": "code",
   "execution_count": 377,
   "metadata": {},
   "outputs": [
    {
     "name": "stdout",
     "output_type": "stream",
     "text": [
      "WhatsApp Messenger : 1000000000\n",
      "imo beta free calls and text : 100000000\n",
      "Android Messages : 100000000\n",
      "Google Duo - High Quality Video Calls : 500000000\n",
      "Messenger – Text and Video Chat for Free : 1000000000\n",
      "imo free video calls and chat : 500000000\n",
      "Skype - free IM & video calls : 1000000000\n",
      "Who : 100000000\n",
      "GO SMS Pro - Messenger, Free Themes, Emoji : 100000000\n",
      "LINE: Free Calls & Messages : 500000000\n",
      "Google Chrome: Fast & Secure : 1000000000\n",
      "Firefox Browser fast & private : 100000000\n",
      "UC Browser - Fast Download Private & Secure : 500000000\n",
      "Gmail : 1000000000\n",
      "Hangouts : 1000000000\n",
      "Messenger Lite: Free Calls & Messages : 100000000\n",
      "Kik : 100000000\n",
      "KakaoTalk: Free Calls & Text : 100000000\n",
      "Opera Mini - fast web browser : 100000000\n",
      "Opera Browser: Fast and Secure : 100000000\n",
      "Telegram : 100000000\n",
      "Truecaller: Caller ID, SMS spam blocking & Dialer : 100000000\n",
      "UC Browser Mini -Tiny Fast Private & Secure : 100000000\n",
      "Viber Messenger : 500000000\n",
      "WeChat : 100000000\n",
      "Yahoo Mail – Stay Organized : 100000000\n",
      "BBM - Free Calls & Messages : 100000000\n"
     ]
    }
   ],
   "source": [
    "for app in android:\n",
    "    if app[1] == 'COMMUNICATION' and (app[5] == '1000000000'\n",
    "                                      or app[5] == '500000000'\n",
    "                                      or app[5] == '100000000'):\n",
    "        print(app[0], ':', app[5])"
   ]
  },
  {
   "cell_type": "markdown",
   "metadata": {},
   "source": [
    "We see the same pattern for the video players category, which is the runner-up with 24,727,872 installs. The market is dominated by apps like Youtube, Google Play Movies & TV, or MX Player. The pattern is repeated for social apps (where we have giants like Facebook, Instagram, Google+, etc.), photography apps (Google Photos and other popular photo editors), or productivity apps (Microsoft Word, Dropbox, Google Calendar, Evernote, etc.).\n",
    "\n",
    "Again, the main concern is that these app genres might seem more popular than they really are. Moreover, these niches seem to be dominated by a few giants who are hard to compete against.\n",
    "\n",
    "The game genre seems pretty popular, but previously we found out this part of the market seems a bit saturated, so we'd like to come up with a different app recommendation if possible.\n",
    "\n",
    "The books and reference genre looks fairly popular as well, with an average number of installs of 8,767,811. It's interesting to explore this in more depth, since we found this genre has some potential to work well on the App Store, and our aim is to recommend an app genre that shows potential for being profitable on both the App Store and Google Play.\n",
    "\n",
    "Let's take a look at some of the apps from this genre and their number of installs"
   ]
  },
  {
   "cell_type": "code",
   "execution_count": 378,
   "metadata": {},
   "outputs": [
    {
     "name": "stdout",
     "output_type": "stream",
     "text": [
      "E-Book Read - Read Book for free : 50000\n",
      "Download free book with green book : 100000\n",
      "Wikipedia : 10000000\n",
      "Cool Reader : 10000000\n",
      "Free Panda Radio Music : 100000\n",
      "Book store : 1000000\n",
      "FBReader: Favorite Book Reader : 10000000\n",
      "English Grammar Complete Handbook : 500000\n",
      "Free Books - Spirit Fanfiction and Stories : 1000000\n",
      "Google Play Books : 1000000000\n",
      "AlReader -any text book reader : 5000000\n",
      "Offline English Dictionary : 100000\n",
      "Offline: English to Tagalog Dictionary : 500000\n",
      "FamilySearch Tree : 1000000\n",
      "Cloud of Books : 1000000\n",
      "Recipes of Prophetic Medicine for free : 500000\n",
      "ReadEra – free ebook reader : 1000000\n",
      "Anonymous caller detection : 10000\n",
      "Ebook Reader : 5000000\n",
      "Litnet - E-books : 100000\n",
      "Read books online : 5000000\n",
      "English to Urdu Dictionary : 500000\n",
      "eBoox: book reader fb2 epub zip : 1000000\n",
      "English Persian Dictionary : 500000\n",
      "Flybook : 500000\n",
      "All Maths Formulas : 1000000\n",
      "Ancestry : 5000000\n",
      "HTC Help : 10000000\n",
      "English translation from Bengali : 100000\n",
      "Pdf Book Download - Read Pdf Book : 100000\n",
      "Free Book Reader : 100000\n",
      "eBoox new: Reader for fb2 epub zip books : 50000\n",
      "Only 30 days in English, the guideline is guaranteed : 500000\n",
      "Moon+ Reader : 10000000\n",
      "SH-02J Owner's Manual (Android 8.0) : 50000\n",
      "English-Myanmar Dictionary : 1000000\n",
      "Golden Dictionary (EN-AR) : 1000000\n",
      "All Language Translator Free : 1000000\n",
      "Azpen eReader : 500000\n",
      "URBANO V 02 instruction manual : 100000\n",
      "Bible : 100000000\n",
      "C Programs and Reference : 50000\n",
      "C Offline Tutorial : 1000\n",
      "C Programs Handbook : 50000\n",
      "Amazon Kindle : 100000000\n",
      "Aab e Hayat Full Novel : 100000\n",
      "Aldiko Book Reader : 10000000\n",
      "Google I/O 2018 : 500000\n",
      "R Language Reference Guide : 10000\n",
      "Learn R Programming Full : 5000\n",
      "R Programing Offline Tutorial : 1000\n",
      "Guide for R Programming : 5\n",
      "Learn R Programming : 10\n",
      "R Quick Reference Big Data : 1000\n",
      "V Made : 100000\n",
      "Wattpad 📖 Free Books : 100000000\n",
      "Dictionary - WordWeb : 5000000\n",
      "Guide (for X-MEN) : 100000\n",
      "AC Air condition Troubleshoot,Repair,Maintenance : 5000\n",
      "AE Bulletins : 1000\n",
      "Ae Allah na Dai (Rasa) : 10000\n",
      "50000 Free eBooks & Free AudioBooks : 5000000\n",
      "Ag PhD Field Guide : 10000\n",
      "Ag PhD Deficiencies : 10000\n",
      "Ag PhD Planting Population Calculator : 1000\n",
      "Ag PhD Soybean Diseases : 1000\n",
      "Fertilizer Removal By Crop : 50000\n",
      "A-J Media Vault : 50\n",
      "Al-Quran (Free) : 10000000\n",
      "Al Quran (Tafsir & by Word) : 500000\n",
      "Al Quran Indonesia : 10000000\n",
      "Al'Quran Bahasa Indonesia : 10000000\n",
      "Al Quran Al karim : 1000000\n",
      "Al-Muhaffiz : 50000\n",
      "Al Quran : EAlim - Translations & MP3 Offline : 5000000\n",
      "Al-Quran 30 Juz free copies : 500000\n",
      "Koran Read &MP3 30 Juz Offline : 1000000\n",
      "Hafizi Quran 15 lines per page : 1000000\n",
      "Quran for Android : 10000000\n",
      "Surah Al-Waqiah : 100000\n",
      "Hisnul Al Muslim - Hisn Invocations & Adhkaar : 100000\n",
      "Satellite AR : 1000000\n",
      "Audiobooks from Audible : 100000000\n",
      "Kinot & Eichah for Tisha B'Av : 10000\n",
      "AW Tozer Devotionals - Daily : 5000\n",
      "Tozer Devotional -Series 1 : 1000\n",
      "The Pursuit of God : 1000\n",
      "AY Sing : 5000\n",
      "Ay Hasnain k Nana Milad Naat : 10000\n",
      "Ay Mohabbat Teri Khatir Novel : 10000\n",
      "Arizona Statutes, ARS (AZ Law) : 1000\n",
      "Oxford A-Z of English Usage : 1000000\n",
      "BD Fishpedia : 1000\n",
      "BD All Sim Offer : 10000\n",
      "Youboox - Livres, BD et magazines : 500000\n",
      "B&H Kids AR : 10000\n",
      "B y H Niños ES : 5000\n",
      "Dictionary.com: Find Definitions for English Words : 10000000\n",
      "English Dictionary - Offline : 10000000\n",
      "Bible KJV : 5000000\n",
      "Borneo Bible, BM Bible : 10000\n",
      "MOD Black for BM : 100\n",
      "BM Box : 1000\n",
      "Anime Mod for BM : 100\n",
      "NOOK: Read eBooks & Magazines : 10000000\n",
      "NOOK Audiobooks : 500000\n",
      "NOOK App for NOOK Devices : 500000\n",
      "Browsery by Barnes & Noble : 5000\n",
      "bp e-store : 1000\n",
      "Brilliant Quotes: Life, Love, Family & Motivation : 1000000\n",
      "BR Ambedkar Biography & Quotes : 10000\n",
      "BU Alsace : 100\n",
      "Catholic La Bu Zo Kam : 500\n",
      "Khrifa Hla Bu (Solfa) : 10\n",
      "Kristian Hla Bu : 10000\n",
      "SA HLA BU : 1000\n",
      "Learn SAP BW : 500\n",
      "Learn SAP BW on HANA : 500\n",
      "CA Laws 2018 (California Laws and Codes) : 5000\n",
      "Bootable Methods(USB-CD-DVD) : 10000\n",
      "cloudLibrary : 100000\n",
      "SDA Collegiate Quarterly : 500\n",
      "Sabbath School : 100000\n",
      "Cypress College Library : 100\n",
      "Stats Royale for Clash Royale : 1000000\n",
      "GATE 21 years CS Papers(2011-2018 Solved) : 50\n",
      "Learn CT Scan Of Head : 5000\n",
      "Easy Cv maker 2018 : 10000\n",
      "How to Write CV : 100000\n",
      "CW Nuclear : 1000\n",
      "CY Spray nozzle : 10\n",
      "BibleRead En Cy Zh Yue : 5\n",
      "CZ-Help : 5\n",
      "Modlitební knížka CZ : 500\n",
      "Guide for DB Xenoverse : 10000\n",
      "Guide for DB Xenoverse 2 : 10000\n",
      "Guide for IMS DB : 10\n",
      "DC HSEMA : 5000\n",
      "DC Public Library : 1000\n",
      "Painting Lulu DC Super Friends : 1000\n",
      "Dictionary : 10000000\n",
      "Fix Error Google Playstore : 1000\n",
      "D. H. Lawrence Poems FREE : 1000\n",
      "Bilingual Dictionary Audio App : 5000\n",
      "DM Screen : 10000\n",
      "wikiHow: how to do anything : 1000000\n",
      "Dr. Doug's Tips : 1000\n",
      "Bible du Semeur-BDS (French) : 50000\n",
      "La citadelle du musulman : 50000\n",
      "DV 2019 Entry Guide : 10000\n",
      "DV 2019 - EDV Photo & Form : 50000\n",
      "DV 2018 Winners Guide : 1000\n",
      "EB Annual Meetings : 1000\n",
      "EC - AP & Telangana : 5000\n",
      "TN Patta Citta & EC : 10000\n",
      "AP Stamps and Registration : 10000\n",
      "CompactiMa EC pH Calibration : 100\n",
      "EGW Writings 2 : 100000\n",
      "EGW Writings : 1000000\n",
      "Bible with EGW Comments : 100000\n",
      "My Little Pony AR Guide : 1000000\n",
      "SDA Sabbath School Quarterly : 500000\n",
      "Duaa Ek Ibaadat : 5000\n",
      "Spanish English Translator : 10000000\n",
      "Dictionary - Merriam-Webster : 10000000\n",
      "JW Library : 10000000\n",
      "Oxford Dictionary of English : Free : 10000000\n",
      "English Hindi Dictionary : 10000000\n",
      "English to Hindi Dictionary : 5000000\n",
      "EP Research Service : 1000\n",
      "Hymnes et Louanges : 100000\n",
      "EU Charter : 1000\n",
      "EU Data Protection : 1000\n",
      "EU IP Codes : 100\n",
      "EW PDF : 5\n",
      "BakaReader EX : 100000\n",
      "EZ Quran : 50000\n",
      "FA Part 1 & 2 Past Papers Solved Free – Offline : 5000\n",
      "La Fe de Jesus : 1000\n",
      "La Fe de Jesús : 500\n",
      "Le Fe de Jesus : 500\n",
      "Florida - Pocket Brainbook : 1000\n",
      "Florida Statutes (FL Code) : 1000\n",
      "English To Shona Dictionary : 10000\n",
      "Greek Bible FP (Audio) : 1000\n",
      "Golden Dictionary (FR-AR) : 500000\n",
      "Fanfic-FR : 5000\n",
      "Bulgarian French Dictionary Fr : 10000\n",
      "Chemin (fr) : 1000\n",
      "The SCP Foundation DB fr nn5n : 1000\n"
     ]
    }
   ],
   "source": [
    "for app in android:\n",
    "    if app[1] == 'BOOKS_AND_REFERENCE':\n",
    "        print(app[0], ':', app[5])"
   ]
  },
  {
   "cell_type": "code",
   "execution_count": 379,
   "metadata": {},
   "outputs": [
    {
     "name": "stdout",
     "output_type": "stream",
     "text": [
      "Wikipedia : 10000000\n",
      "Cool Reader : 10000000\n",
      "Book store : 1000000\n",
      "FBReader: Favorite Book Reader : 10000000\n",
      "Free Books - Spirit Fanfiction and Stories : 1000000\n",
      "AlReader -any text book reader : 5000000\n",
      "FamilySearch Tree : 1000000\n",
      "Cloud of Books : 1000000\n",
      "ReadEra – free ebook reader : 1000000\n",
      "Ebook Reader : 5000000\n",
      "Read books online : 5000000\n",
      "eBoox: book reader fb2 epub zip : 1000000\n",
      "All Maths Formulas : 1000000\n",
      "Ancestry : 5000000\n",
      "HTC Help : 10000000\n",
      "Moon+ Reader : 10000000\n",
      "English-Myanmar Dictionary : 1000000\n",
      "Golden Dictionary (EN-AR) : 1000000\n",
      "All Language Translator Free : 1000000\n",
      "Aldiko Book Reader : 10000000\n",
      "Dictionary - WordWeb : 5000000\n",
      "50000 Free eBooks & Free AudioBooks : 5000000\n",
      "Al-Quran (Free) : 10000000\n",
      "Al Quran Indonesia : 10000000\n",
      "Al'Quran Bahasa Indonesia : 10000000\n",
      "Al Quran Al karim : 1000000\n",
      "Al Quran : EAlim - Translations & MP3 Offline : 5000000\n",
      "Koran Read &MP3 30 Juz Offline : 1000000\n",
      "Hafizi Quran 15 lines per page : 1000000\n",
      "Quran for Android : 10000000\n",
      "Satellite AR : 1000000\n",
      "Oxford A-Z of English Usage : 1000000\n",
      "Dictionary.com: Find Definitions for English Words : 10000000\n",
      "English Dictionary - Offline : 10000000\n",
      "Bible KJV : 5000000\n",
      "NOOK: Read eBooks & Magazines : 10000000\n",
      "Brilliant Quotes: Life, Love, Family & Motivation : 1000000\n",
      "Stats Royale for Clash Royale : 1000000\n",
      "Dictionary : 10000000\n",
      "wikiHow: how to do anything : 1000000\n",
      "EGW Writings : 1000000\n",
      "My Little Pony AR Guide : 1000000\n",
      "Spanish English Translator : 10000000\n",
      "Dictionary - Merriam-Webster : 10000000\n",
      "JW Library : 10000000\n",
      "Oxford Dictionary of English : Free : 10000000\n",
      "English Hindi Dictionary : 10000000\n",
      "English to Hindi Dictionary : 5000000\n"
     ]
    }
   ],
   "source": [
    "for app in android:\n",
    "    if app[1] == 'BOOKS_AND_REFERENCE' and (app[5] == '1000000'\n",
    "                                            or app[5] == '5000000'\n",
    "                                            or app[5] == '10000000'\n",
    "                                            or app[5] == '50000000'):\n",
    "        print(app[0], ':', app[5])"
   ]
  },
  {
   "cell_type": "markdown",
   "metadata": {},
   "source": [
    "There are apps  that seem to skew the average installations.However, it looks like there are only a few very popular apps, so this market still shows potential. Let's try to get some app ideas based on the kind of apps that are somewhere in the middle in terms of popularity (between 1,000,000 and 100,000,000 downloads)\n",
    "\n",
    "\n",
    "This niche seems to be dominated by software for processing and reading ebooks, as well as various collections of libraries and dictionaries, so it's probably not a good idea to build similar apps since there'll be some significant competition.\n",
    "\n",
    "We also notice there are quite a few apps built around the book Quran, which suggests that building an app around a popular book can be profitable. It seems that taking a popular book (perhaps a more recent book) and turning it into an app could be profitable for both the Google Play and the App Store markets.\n",
    "\n",
    "However, it looks like the market is already full of libraries, so we need to add some special features besides the raw version of the book. This might include daily quotes from the book, an audio version of the book, quizzes on the book, a forum where people can discuss the book, etc."
   ]
  }
 ],
 "metadata": {
  "kernelspec": {
   "display_name": "Python 3",
   "language": "python",
   "name": "python3"
  },
  "language_info": {
   "codemirror_mode": {
    "name": "ipython",
    "version": 3
   },
   "file_extension": ".py",
   "mimetype": "text/x-python",
   "name": "python",
   "nbconvert_exporter": "python",
   "pygments_lexer": "ipython3",
   "version": "3.7.4"
  }
 },
 "nbformat": 4,
 "nbformat_minor": 2
}
